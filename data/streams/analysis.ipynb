{
 "cells": [
  {
   "cell_type": "code",
   "execution_count": 2,
   "metadata": {},
   "outputs": [
    {
     "name": "stdout",
     "output_type": "stream",
     "text": [
      "181\n",
      "english german\n"
     ]
    },
    {
     "data": {
      "text/plain": [
       "(-1.0, 192.0)"
      ]
     },
     "execution_count": 2,
     "metadata": {},
     "output_type": "execute_result"
    },
    {
     "data": {
      "image/png": "[encoded data removed]",
      "text/plain": [
       "<Figure size 1500x500 with 1 Axes>"
      ]
     },
     "metadata": {},
     "output_type": "display_data"
    }
   ],
   "source": [
    "from matplotlib import pyplot as plt\n",
    "import numpy as np\n",
    "import pandas as pd\n",
    "name = \"english_german_sudden\"\n",
    "data = pd.read_csv(f\"{name}.csv\").set_index(\"index\")\n",
    "print(data.batch_index.max())\n",
    "lang_1, lang_2 = data[\"language\"].unique().tolist()\n",
    "print(lang_1, lang_2)\n",
    "tmp = data[[\"language\", \"batch_index\"]]\n",
    "tmp.loc[tmp[\"language\"] == lang_1, \"language\"] = 1\n",
    "tmp.loc[tmp[\"language\"] == lang_2, \"language\"] = 0\n",
    "y = tmp.groupby(\"batch_index\").mean().to_numpy()\n",
    "y = y[:,0]\n",
    "fig, ax = plt.subplots(figsize=(15,5))\n",
    "\n",
    "x = np.arange(len(y))\n",
    "x = np.linspace(0, len(y)-1, len(y))\n",
    "second = np.ones(len(y)) - y\n",
    "ax.bar(x, y, label=lang_1[:3].title())\n",
    "ax.bar(x, second, bottom=y,\n",
    "       label=lang_2[:3].title())\n",
    "\n",
    "ax.set_ylabel('Udział języka we wsadzie')\n",
    "ax.set_xlabel('Numer wsadu')\n",
    "ax.set_title(f'Reprezentacja dystrybucji danych w strumieniu.')\n",
    "ax.legend()\n",
    "ax.set_xlim([-1,192])"
   ]
  },
  {
   "cell_type": "code",
   "execution_count": 1,
   "metadata": {},
   "outputs": [
    {
     "data": {
      "text/html": [
       "<div>\n",
       "<style scoped>\n",
       "    .dataframe tbody tr th:only-of-type {\n",
       "        vertical-align: middle;\n",
       "    }\n",
       "\n",
       "    .dataframe tbody tr th {\n",
       "        vertical-align: top;\n",
       "    }\n",
       "\n",
       "    .dataframe thead th {\n",
       "        text-align: right;\n",
       "    }\n",
       "</style>\n",
       "<table border=\"1\" class=\"dataframe\">\n",
       "  <thead>\n",
       "    <tr style=\"text-align: right;\">\n",
       "      <th></th>\n",
       "      <th>embeddings</th>\n",
       "    </tr>\n",
       "  </thead>\n",
       "  <tbody>\n",
       "    <tr>\n",
       "      <th>0</th>\n",
       "      <td>0.364456</td>\n",
       "    </tr>\n",
       "    <tr>\n",
       "      <th>1</th>\n",
       "      <td>-1.060148</td>\n",
       "    </tr>\n",
       "    <tr>\n",
       "      <th>2</th>\n",
       "      <td>-0.209860</td>\n",
       "    </tr>\n",
       "    <tr>\n",
       "      <th>3</th>\n",
       "      <td>0.061410</td>\n",
       "    </tr>\n",
       "    <tr>\n",
       "      <th>4</th>\n",
       "      <td>-0.032842</td>\n",
       "    </tr>\n",
       "    <tr>\n",
       "      <th>...</th>\n",
       "      <td>...</td>\n",
       "    </tr>\n",
       "    <tr>\n",
       "      <th>763</th>\n",
       "      <td>0.367069</td>\n",
       "    </tr>\n",
       "    <tr>\n",
       "      <th>764</th>\n",
       "      <td>1.004125</td>\n",
       "    </tr>\n",
       "    <tr>\n",
       "      <th>765</th>\n",
       "      <td>-0.916993</td>\n",
       "    </tr>\n",
       "    <tr>\n",
       "      <th>766</th>\n",
       "      <td>0.578649</td>\n",
       "    </tr>\n",
       "    <tr>\n",
       "      <th>767</th>\n",
       "      <td>-0.670288</td>\n",
       "    </tr>\n",
       "  </tbody>\n",
       "</table>\n",
       "<p>768 rows × 1 columns</p>\n",
       "</div>"
      ],
      "text/plain": [
       "     embeddings\n",
       "0      0.364456\n",
       "1     -1.060148\n",
       "2     -0.209860\n",
       "3      0.061410\n",
       "4     -0.032842\n",
       "..          ...\n",
       "763    0.367069\n",
       "764    1.004125\n",
       "765   -0.916993\n",
       "766    0.578649\n",
       "767   -0.670288\n",
       "\n",
       "[768 rows x 1 columns]"
      ]
     },
     "execution_count": 1,
     "metadata": {},
     "output_type": "execute_result"
    }
   ],
   "source": [
    "import pandas as pd\n",
    "\n",
    "pd.read_parquet(\"/Users/hulewicz/Private/fake-news-detection/streaming_approach/embeddings.parquet\")"
   ]
  },
  {
   "cell_type": "code",
   "execution_count": 3,
   "metadata": {},
   "outputs": [
    {
     "data": {
      "text/plain": [
       "fake\n",
       "0    15387\n",
       "1    14922\n",
       "Name: count, dtype: int64"
      ]
     },
     "execution_count": 3,
     "metadata": {},
     "output_type": "execute_result"
    }
   ],
   "source": [
    "import pandas as pd\n",
    "data = pd.read_csv(\"english_german_combined.csv\", index_col=0)\n",
    "data.fake.value_counts()"
   ]
  },
  {
   "cell_type": "code",
   "execution_count": 6,
   "metadata": {},
   "outputs": [
    {
     "data": {
      "text/plain": [
       "count    30309.000000\n",
       "mean       609.413936\n",
       "std        745.591293\n",
       "min          1.000000\n",
       "25%        223.000000\n",
       "50%        378.000000\n",
       "75%        805.000000\n",
       "max      23632.000000\n",
       "Name: text, dtype: float64"
      ]
     },
     "execution_count": 6,
     "metadata": {},
     "output_type": "execute_result"
    }
   ],
   "source": [
    "data.text.apply(lambda x: len(x.split(\" \"))).describe()"
   ]
  },
  {
   "cell_type": "code",
   "execution_count": 46,
   "metadata": {},
   "outputs": [
    {
     "name": "stdout",
     "output_type": "stream",
     "text": [
      "(30309, 5)\n",
      "language\n",
      "english    20684\n",
      "german      9625\n",
      "Name: count, dtype: int64\n",
      "fake\n",
      "0    14087\n",
      "1    13629\n",
      "Name: count, dtype: int64\n",
      "language\n",
      "english    18091\n",
      "german      9625\n",
      "Name: count, dtype: int64\n"
     ]
    }
   ],
   "source": [
    "import pandas as pd\n",
    "\n",
    "data = pd.read_csv(\"english_german_combined.csv\", index_col=0).reset_index().rename(columns={\"index\": \"old_index\"})\n",
    "data[\"length\"] = data.text.apply(lambda x: len(x.split(\" \")))\n",
    "print(data.shape)\n",
    "print(data[\"language\"].value_counts())\n",
    "reduced = data[data[\"length\"] < 1407].copy()\n",
    "# reduced = data.copy()\n",
    "reduced = reduced[reduced[\"length\"] >= 2].sort_values(\"length\")\n",
    "reduced.drop_duplicates(subset=\"text\", inplace=True)\n",
    "reduced[\"length\"].describe()\n",
    "print(reduced[\"fake\"].value_counts())\n",
    "print(reduced[\"language\"].value_counts())\n",
    "reduced.drop(\"length\", axis=1,  inplace=True)\n",
    "reduced = reduced.reset_index(drop=True).reset_index().rename(columns={\"index\": \"new_index\"})\n",
    "reduced.to_csv(\"english_german_combined_REDUCED.csv\", index=False)"
   ]
  },
  {
   "cell_type": "code",
   "execution_count": 50,
   "metadata": {},
   "outputs": [
    {
     "data": {
      "text/html": [
       "<div>\n",
       "<style scoped>\n",
       "    .dataframe tbody tr th:only-of-type {\n",
       "        vertical-align: middle;\n",
       "    }\n",
       "\n",
       "    .dataframe tbody tr th {\n",
       "        vertical-align: top;\n",
       "    }\n",
       "\n",
       "    .dataframe thead th {\n",
       "        text-align: right;\n",
       "    }\n",
       "</style>\n",
       "<table border=\"1\" class=\"dataframe\">\n",
       "  <thead>\n",
       "    <tr style=\"text-align: right;\">\n",
       "      <th></th>\n",
       "      <th>index</th>\n",
       "      <th>text</th>\n",
       "      <th>fake</th>\n",
       "      <th>language</th>\n",
       "      <th>batch_index</th>\n",
       "    </tr>\n",
       "  </thead>\n",
       "  <tbody>\n",
       "    <tr>\n",
       "      <th>0</th>\n",
       "      <td>11447</td>\n",
       "      <td>Russia Vitaly Churkin, the Russian ambassador ...</td>\n",
       "      <td>1</td>\n",
       "      <td>english</td>\n",
       "      <td>0</td>\n",
       "    </tr>\n",
       "    <tr>\n",
       "      <th>1</th>\n",
       "      <td>16831</td>\n",
       "      <td>Posted on October 31, 2016 by Dr. Eowyn | 2 Co...</td>\n",
       "      <td>1</td>\n",
       "      <td>english</td>\n",
       "      <td>0</td>\n",
       "    </tr>\n",
       "    <tr>\n",
       "      <th>2</th>\n",
       "      <td>505</td>\n",
       "      <td>Smoking will be prohibited in public housing r...</td>\n",
       "      <td>0</td>\n",
       "      <td>english</td>\n",
       "      <td>0</td>\n",
       "    </tr>\n",
       "    <tr>\n",
       "      <th>3</th>\n",
       "      <td>4036</td>\n",
       "      <td>By George ZapoPosted Friday, October 28, 2016 ...</td>\n",
       "      <td>1</td>\n",
       "      <td>english</td>\n",
       "      <td>0</td>\n",
       "    </tr>\n",
       "    <tr>\n",
       "      <th>4</th>\n",
       "      <td>13052</td>\n",
       "      <td>Hate Rising with Jorge Ramos Fusion, October 2...</td>\n",
       "      <td>1</td>\n",
       "      <td>english</td>\n",
       "      <td>0</td>\n",
       "    </tr>\n",
       "    <tr>\n",
       "      <th>...</th>\n",
       "      <td>...</td>\n",
       "      <td>...</td>\n",
       "      <td>...</td>\n",
       "      <td>...</td>\n",
       "      <td>...</td>\n",
       "    </tr>\n",
       "    <tr>\n",
       "      <th>19188</th>\n",
       "      <td>26803</td>\n",
       "      <td>Dramatische Szenen spielten sich bei einem Bra...</td>\n",
       "      <td>0</td>\n",
       "      <td>german</td>\n",
       "      <td>191</td>\n",
       "    </tr>\n",
       "    <tr>\n",
       "      <th>19189</th>\n",
       "      <td>21641</td>\n",
       "      <td>Sein umstrittener Jubel wird wohl ein Nachspie...</td>\n",
       "      <td>1</td>\n",
       "      <td>german</td>\n",
       "      <td>191</td>\n",
       "    </tr>\n",
       "    <tr>\n",
       "      <th>19190</th>\n",
       "      <td>28079</td>\n",
       "      <td>Zusammenfügen und Eigenschaften mit \"lebenden ...</td>\n",
       "      <td>0</td>\n",
       "      <td>german</td>\n",
       "      <td>191</td>\n",
       "    </tr>\n",
       "    <tr>\n",
       "      <th>19191</th>\n",
       "      <td>23249</td>\n",
       "      <td>In einem Spiellokal in Wien-Margareten können ...</td>\n",
       "      <td>1</td>\n",
       "      <td>german</td>\n",
       "      <td>191</td>\n",
       "    </tr>\n",
       "    <tr>\n",
       "      <th>19192</th>\n",
       "      <td>27338</td>\n",
       "      <td>Kostenlose Auskunft aus deutschem Festnetz fun...</td>\n",
       "      <td>0</td>\n",
       "      <td>german</td>\n",
       "      <td>191</td>\n",
       "    </tr>\n",
       "  </tbody>\n",
       "</table>\n",
       "<p>19193 rows × 5 columns</p>\n",
       "</div>"
      ],
      "text/plain": [
       "       index                                               text  fake   \n",
       "0      11447  Russia Vitaly Churkin, the Russian ambassador ...     1  \\\n",
       "1      16831  Posted on October 31, 2016 by Dr. Eowyn | 2 Co...     1   \n",
       "2        505  Smoking will be prohibited in public housing r...     0   \n",
       "3       4036  By George ZapoPosted Friday, October 28, 2016 ...     1   \n",
       "4      13052  Hate Rising with Jorge Ramos Fusion, October 2...     1   \n",
       "...      ...                                                ...   ...   \n",
       "19188  26803  Dramatische Szenen spielten sich bei einem Bra...     0   \n",
       "19189  21641  Sein umstrittener Jubel wird wohl ein Nachspie...     1   \n",
       "19190  28079  Zusammenfügen und Eigenschaften mit \"lebenden ...     0   \n",
       "19191  23249  In einem Spiellokal in Wien-Margareten können ...     1   \n",
       "19192  27338  Kostenlose Auskunft aus deutschem Festnetz fun...     0   \n",
       "\n",
       "      language  batch_index  \n",
       "0      english            0  \n",
       "1      english            0  \n",
       "2      english            0  \n",
       "3      english            0  \n",
       "4      english            0  \n",
       "...        ...          ...  \n",
       "19188   german          191  \n",
       "19189   german          191  \n",
       "19190   german          191  \n",
       "19191   german          191  \n",
       "19192   german          191  \n",
       "\n",
       "[19193 rows x 5 columns]"
      ]
     },
     "execution_count": 50,
     "metadata": {},
     "output_type": "execute_result"
    }
   ],
   "source": [
    "data2 = pd.read_csv(\"english_german_incremental_vmild.csv\")\n",
    "data2"
   ]
  },
  {
   "cell_type": "code",
   "execution_count": 2,
   "metadata": {},
   "outputs": [],
   "source": [
    "import pyarrow.parquet as pq\n",
    "import pandas as pd\n",
    "\n",
    "pd.read_csv(\"english_german_combined_REDUCED.csv\").to_parquet(\"english_german_combined.parquet\")"
   ]
  },
  {
   "cell_type": "code",
   "execution_count": 3,
   "metadata": {},
   "outputs": [
    {
     "data": {
      "text/plain": [
       "pyarrow.Table\n",
       "new_index: int64\n",
       "old_index: int64\n",
       "text: string\n",
       "fake: int64\n",
       "language: string\n",
       "----\n",
       "new_index: [[0,1,2,3,4,...,27711,27712,27713,27714,27715]]\n",
       "old_index: [[3357,5391,775,2088,3941,...,15491,28662,15395,887,11252]]\n",
       "text: [[\"Guest Guest\",\"In obamaland...\",\"David Swanson\",\"Racist drivel.\",\"HE KNEW\",...,\"DELAWARE, Ohio— Donald J. Trump is not popular in this prospering county north of Columbus. The Republican nominee’s dystopian language does not resonate here. Signs that read “Now Hiring” outnumber “Trump” campaign placards. But many residents of this reliably Republican county, which last voted for a Democratic president in 1916, simply cannot imagine voting for Mr. Trump’s Democratic opponent, Hillary Clinton. And that goes a long way toward explaining why she has struggled to separate herself from Mr. Trump in this bellwether state. “I just don’t know what I’m going to do,” said Anne Merrels, 48, who lives with her family in Powell, an old farming town that has sprouted a pair ofrestaurants at its crossroads. The subdivisions of southern Delaware County are a world apart from the anger and decay of Ohio’s old industrial towns. Here live the beneficiaries of globalization: Ohio State University professors, software engineers and bankers who work at the hulking JPMorgan Chase building, a structure on the southern edge of the county that is as large as the Empire State Building, though considerably shorter. Delaware County’s median household income in 2014 was $91, 936, by far the highest in the state and almost twice the statewide median income. The county’s unemployment rate was just 3. 4 percent in July, compared with 4. 9 percent nationwide. Just as Mr. Trump has made inroads among Ohio’s workers by promising to revive their fortunes, Democrats are hoping Mrs. Clinton can find new support among affluent and voters who are thriving in President Obama’s economy and may be wary of Mr. Trump’s bluster. C. J. Soliday, amental health therapist, said she was trying to persuade friends to vote for Mrs. Clinton by posing a single question. “People should ask if we’re doing better than we were doing eight years ago,” Ms. Soliday said. “And the answer is yes. ” Yet conversations with a few dozen voters here suggest that Mrs. Clinton faces considerable challenges in converting the distaste for Mr. Trump into support for her candidacy. Many of those who do not like Mr. Trump also dislike Mrs. Clinton. They are reluctant to cross party lines. And even here, there is still anxiety and pessimism about the health of the economy. There are some like James Kehoe, areal estate agent and registered Republican, who said he did not recognize Mr. Trump’s descriptions of Ohio’s economic desolation and liked the idea of showing his two daughters that a woman could be president. More common, however, are people like Ms. Merrels. She and her husband, a software engineer, went to see Mr. Trump in person this year at the convention center in Columbus. She was impressed by the long lines, but not by the speech. Mr. Trump, she said, seemed to talk mostly about polling numbers. She said she had voted for the Republican nominee in each election since 1996. She said she would not vote for Mrs. Clinton, and was concerned that voting for a candidate would amount to the same thing. But she is not reconciled to voting for Mr. Trump. “I’d like someone to represent the United States who we are proud of, who we are not embarrassed by,” Ms. Merrels said. Democrats remain hopeful that they can improve upon the 38 percent of local votes won by Mr. Obama in 2012. The Clinton campaign has opened an office on Delaware’s main street the Trump campaign has also rented a storefront, but there is just a cardboard cutout of the candidate in the window. Jenny L. Holland, a professor of politics at Ohio Wesleyan University, said she was watching with fascination as Democrats tried to make inroads in a place so Republican that Karl Rove, the Republican strategist, famously protested on national television in 2012 that the election should not be called for Mr. Obama until Delaware County’s votes were counted. “What do you do if the Republican candidate is unpalatable to you?” asked Professor Holland, who also lives in the county. “Do you just show up and not vote for president at all? Or— gasp— could there be a possibility that a Republican woman would show up and vote for Hillary Clinton? We just don’t know. ” Delaware County was mostly farmland until a few decades ago, with a modest cluster of factories in the county seat. Roger Marksch, 67, built and fixed machines in those factories for almost 50 years before hanging up his tools last year. He watched as the factories closed or moved to Japan, China, Mexico and Finland. “I got out just in time,” he said with a laugh. But even as those jobs faded away, developers were replacing Delaware’s soybean fields with subdivisions. Columbus was growing rapidly, fueled by a modern mix of government, education and financial services. Commuters doubled the suburban county’s population from 1980 to 2000, and it is on pace to double again by 2020, easily topping 200, 000. John Kasich, Ohio’s governor, is the archetypal local Republican with misgivings about Mr. Trump. Mr. Kasich, who lives in Delaware County’s southern tier, not far from a planned Ikea, has repeatedly rebutted Mr. Trump’s bleak descriptions of Ohio’s economy. He has not offered an endorsement. Others said they were concerned Mr. Trump was insufficiently conservative. Craig Johnson, who owns a pizzeria in the county seat, said he doubted that Mr. Trump was a Republican, but he laughed when asked if he would consider Mrs. Clinton. “Listen, I’m aowner in Delaware, Ohio, and I like guns, fishing and Nascar,” he said. He is mulling a vote for Gary Johnson, the Libertarian nominee. Many local Republicans are making their peace. Ed Paxton, 51, runs a cigar shop— and business is good. For a while after the recession, regular customers who bought half a dozen cigars each week had cut back to three or four. Lately, they are buying half a dozen. He recently bought his first new vehicle since 1999, “the last time things were decent. ” He is not particularly moved by Mr. Trump’s promises of an economic revival. But Mr. Paxton said he still planned to vote for Mr. Trump for standard Republican reasons: He wants lower taxes and less regulation. He is upset about an excise tax of 40 cents per cigar imposed in 2009 to fund a children’s health insurance program, and he is upset about a ban on providing tobacco samples to his customers. Matt Lester, 37, a graphic designer, was blunt: “He wasn’t my first, second, third or fourth option, but he is better than Hillary. ” Indeed, as in other parts of Ohio, Mrs. Clinton faces some challenges in maintaining the support of her traditional base. Shalyn Shelton, 26, has completed one and a half years of courses toward a nursing degree, but she already owes $22, 000 in student debt and she cannot afford to continue. She also cannot afford to live in Delaware, where she grew up, so she recently moved with her partner to Marion, 20 miles north. And on a recent afternoon she sat outside the International Paper factory where she had worked for the last two years, because she and her have been on strike since May. The factory, which cranks out diaper boxes, egg crates and other corrugated containers, offers some of the best jobs still available in Delaware for people without college degrees. Ms. Shelton makes about $21 an hour stacking boxes. And business is booming. But International Paper wants the workers to accept more mandatory overtime rather than hire more workers. So Ms. Shelton sat among her fellow workers, holding a cardboard sign that read, “84 Hours a Week = No Family! No Church!” In her arms she cradled her daughter, nearly 3 months old. Mrs. Clinton has framed her presidential campaign as an effort to help people like Ms. Shelton. She has proposed making college free for people under a certain income, creating more affordable housing, strengthening collective bargaining, and improving benefits for working parents. She has won the endorsement of Ms. Shelton’s union, the Teamsters. But Mrs. Clinton has not won the support of Ms. Shelton, who has not registered to vote and does not plan to do so. “They don’t care about us,” Ms. Shelton said of Mr. Trump and Mrs. Clinton. A few minutes later, she opened the door at least a crack: “I’ll tell you what— if she shows up here, she would have my vote. ”\",\"Landeshauptfrau: \"Wer den Ruf Niederösterreichs schädigt, kann kein Partner sein.\" Im Zusammenhang mit der Causa Nazi-Liederbuch hat Niederösterreichs Landeshauptfrau Johanna Mikl-Leitner (ÖVP) am Samstag - einen Tag vor der Landtagswahl - eine Zusammenarbeit mit FPÖ-Spitzenkandidat Udo Landbauer ausgeschlossen. \"Wer den Ruf Niederösterreichs schädigt, kann kein Partner sein.\"Seit ihrem Amtsantritt trete sie für ein Miteinander ein - zwischen Stadt und Land, Alt und Jung und über die Parteigrenzen hinweg. \"Was allerdings die Person Landbauer betrifft, so habe ich seit Auftauchen der schwerwiegenden Vorwürfe eine klare Distanzierung und volle Aufklärung verlangt\", so Mikl-Leitner. \"Was wir aber bisher erlebt haben, war untertauchen und wegdrücken dieser schwerwiegenden Vorwürfe.\" Links zum Thema Van der Bellen fordert Landbauer-Rücktritt, Vilimsky kontert Die Landeshauptfrau will nach ihren Worten auch nach der Wahl ihren Stil fortsetzen und die Zusammenarbeit mit allen im Landtag vertretenen Parteien suchen. \"Was aber die Person Landbauer betrifft, ist sein Verhalten kein Beitrag und keine Basis für eine Zusammenarbeit in der niederösterreichischen Landesregierung. Ich werde nicht dabei zusehen, wie durch einen sorglosen Umgang mit Antisemitismus und unserer Geschichte Ruf Niederösterreichs geschädigt wird, das als modernes Land der Offenheit und Toleranz bekannt ist. Das hat sich Niederösterreich nicht verdient.\"Auch SPÖ-Spitzenkandidat Franz Schnabl hatte eine Zusammenarbeit mit Udo Landbauer und seiner FPÖ bereits ausgeschlossen.\"Einen Tag vor der Entscheidung werden wir so ein Manöver eines anderen Kandidaten nicht mehr großartig kommentieren.\" Mit dieser Feststellung reagierte Udo Landbauer, in der Causa NS-Liederbuch der Burschenschaft Germania kritisierter FPÖ-Spitzenkandidat für die niederösterreichische Landtagswahl, darauf, dass Landeshauptfrau Johann Mikl-Leitner (ÖVP) eine Zusammenarbeit mit ihm ausgeschlossen hat.\"Wenn sich Mikl-Leitner aber bereits jetzt mit Rot/Grün einhängt und über die Köpfe unserer niederösterreichischen Landsleute hinweg bereits vor der Wahl ihre Regierungspartner bekannt geben will, dann wird der Wähler das morgen zu bewerten haben\", hieß es in der Stellungnahme.\"Bergstation statt Tauchstation\": Mit diesen Worten dementierten die Freiheitlichen, dass Landbauer Medien am Freitag aus dem Weg gegangen sei. Er habe sehr wohl - am Samstag - in St. Corona am Wechsel einen Kinder-Skikurs abgehalten: \"Entgegen der medialen Berichterstattung und voreiligen falschen Behauptungen einiger Politiker von einer angebliche Absage seines Kinderskikurses\" sei er mit zahlreichen Kindern über die Piste geflitzt.Ursprünglich war der Termin am Freitag am Semmering geplant gewesen. \"Mir war es ein großes Herzensanliegen, den medialen Druck von den Kindern zu nehmen und den Kinderskikurs abseits der Kameras durchzuführen\", wurde Landbauer zitiert. Ein weiterer Gratis-Kinderskikurs soll im Februar folgen. Der gelernte Skilehrer erneuerte seine Forderung von Einheimischen-Tarifen, damit niederösterreichische Familien den Skisport möglichst günstig ausüben können. Ja schon Frau Landeshauptmann,aber den nicht wieder als Minister in den Bund verschieben,wie immer es ausgeht, behaltet ihn.Die Mikl-Leitnersagt sowas natürlich nicht öffentlich, ohne sich vorher mit dem Kurz abgestimmt zu haben. Der Basti ist still, weil er ja die FPÖ in Wien braucht. Aber nachdem van der Bellen schon Druck gemacht hat, wird der Druck auf die FPÖ nun weiter erhöht. Für die FPÖ ist da nichts zu gewinnen, das ist ein Lose-Lose-Spiel. Tritt Landbauer zurück, haben sie ein Problem, tritt er nicht zurück, ebenso. Es sieht ungefähr so aus wie damals beim Schüssel und dem Jörgl. Als hätte die Zerstörung der FPÖ begonnen. Der Strache selber treibt ja auch einen Keil in die Partei, seine Aussagen auf dem Ball sind für einen Großteil der völkisch-nationalistischen FPÖ-Basis kaum verdaulich. Die Polarisierung zwischen extrem Rechten und gemäßigten Liberalen in der FPÖ hat begonnen. Mitte bis Ende des Jahres gibt´s wieder einen FPÖ-Sonderparteitag in Knittelfeld. Wär wohl die eleganteste Lösung für das ganze Land . . .NÖ LandtagswahlIch denke, dass er hier um die NÖ Landtagswahl geht.Aber auch hier wird nur über die BUNDESREGIERUNG geschimpft - es wird, um welchen Bericht es sich hier handelt, immer das gleiche \"Bundesregierungsbeschimpfungskonzert\" gespielt.Aber nun zum Thema:Wenn man den letzten Umfragen in NÖ glauben darf, dann würde sich eine bürgerliche Mehrheit ÖVP - NEOS ausgehen (ca.45% und ca.5%). Das wäre sicherlich eine interessante Regierungsvariante - das FPÖ-Thema wäre aus der Welt.@germaneDa geht es um Grundwerte der Republik. Da muss man schon sehr einfach gestrickt sein, um das auf eine Landeswahl redurieren zu können.*BüroEs ist natürlich einfach, alles dem Bundeskanzler ( Basti!) in die Schuhe zu schieben. Welche Alternative gab's nach der NR-Wahl ?Irgendwie ist das ganze sowieso Groteskt. Da hat die ÖVP Jahrzehntelang das Innenministerium und Justizministerium in ihrer Hand, und mit Kurz fünf Jahre einen Integrationsminister und ist deshalb alleinverantwortlich für das Versagen in der Flüchtlingsfrage. Leitner ist noch dazu als damalige Innenministerin hauptverantwortlich für das unkontrollierte übertreten der Grenze. Trotzdem sind ÖVP u. FPÖ die großen Gewinner bei den Wahlen, da es Ihnen mit Hilfe eines Wiener Schandblattl gelungen ist, den Roten u. Grünen die Schuld für diese Situation in die Schuhe zu schieben!Untkontrolliertes Übertreten der Grenze@TannenbaumErinnern sie sich nicht mehr, wie der BK Faymann in Absprache mit BK Merkl (oder in Abhängigkeit) die Grenzen geöffnet hat. Im Grenzeinsatz sah man immer den Polizisten Doskozil, der sich feiern ließ.-und in den Nachrichten hat sich immer ein ÖBB-Chef ins Scheinwerferlicht gerückt, wie toll ER den Flüchtlingen hilft und sie transportiert.@tannenbaum und @altbayer,sollma schon wieder über Rechtspflichten,Menschenrechte und Verfassung plaudern über die EMRK und den selbstreferenten Artikel 17,über Hilfspflicht Humanität und EU-Recht,darüber daß Routenschließen rechtswidrig ist und daß jetzt Leute in Libyschen Lagern verrecken,ich bin ja da.@germaneErinnerst du dich nicht mehr, dass Kurz als Minister der Grenzöffnung zugestimmt hat?Das war ein Ministerratsbeschluss und kein Alleingang des Kanzlers.Kurz hat sich wahrsvcheinlich gedacht, da gibt es so viele Einfachen in diesem Land, denen kann ich in einem Jahr etwas ganz anderes erzählen und die glauben es noch. So wie ich ihnen in 5 Jahren erzählen werde, das die Linken schuld sind, dass das Regierungsprogramm nicht abgearbeitet werden konnte. Der Landbauer war bisher nur Skilehrer, ist derzeit Student, war natürlich auch beim Militär wie alle wehrhaften Germanen, damit erfüllt er den Kompetenzdurchschnitt in der FPÖ locker und ist natürlich auch bei einer extrem rechten Burschenschaft. So einer will Landeshauptmann in Österreich werden? Was soll das überhaupt? Re Der LandbauerAber so etwas ähnliches haben wir sogar als Bundeskanzler... (mit Ausnahme der Burschenschaft)Auf dem Papierist das so. Aber ich schätze den Kurz als ein etwas höheres Kaliber ein. Und dass er zu einer rechtsextremen Burschenschaft geht, ist bei ihm auch kaum vorstellbar, oder? Das ist allerhand wert. Und bei der FPÖ ist doch jeder so! Praktisch alle durch die Bank. Da sind doch nur politische Emporkömmlinge ohne viel Kompetenz . . Bin nicht unbedingt ein MIKL-LEITNER-Fan,doch diese Erklärung, mit dem NÖ-Schädling Landbauer nicht koalieren zu wollen, ringt ehrlichen Respekt ab, ebenso wie dem SPÖ-Mann SCHNABL!Wer nun noch diesen NÖ-Schädling wählt, stellt sich selbst auf die unterste Stufe politischen Handelns!🤔Gratulation. Wenigstens eine von der Türkisen Reichshälfte hat noch Anstand und Moral. Mit dieser Entscheidung hat sie die Absolute sicher.Hat das der Chefoberstewohl schon so genehmigt?Bravo, Frau Landeshauptmann......und ein Bravo auch der niederösterreichischen SPÖ! Eine Zusammenarbeit mit diesem Mann soll nicht nur in Niederösterreich, sondern im gesamten Bundesgebiet abgelehnt werden! Er und seinesgleichen fügen uns Österreichern großen Schaden zu!Interessant, ich denke wir erleben den ersten schweren Fehler von BK Kurz: Während er sich auf das Strafrecht beruft, düpieren ihn der Bundespräsident (er fordert den Rücktritt von Landbauer) und sogar Parteikollegin LH Mikl-Leitner, sie schließt jede Zusammenarbeit mit Landbauer nach der Wahl in NÖ aus (was der Rücktrittsaufforderung Van der Bellens gleich kommt). Wie man es dreht und wendet: Kurz hat durch sein Zaudern (und rücksichtln auf die FPÖ) den Kürzeren gezogen. Da kommt er nicht mehr ohne Gesichtsverlust heraus, denn Landbauer ist schon Geschichte. Die sicherlich gut abgewogene und mit Parteistrategen abgestimmte Reaktion von Mikl-Leitner im ureigensten Interesse lässt dies vermuten.Landbauerist Landes- und nicht Bundespolitiker. Hier muß das Land zur Tat schreiten und nicht der Bund. Eindeutig Landessache. @huntiWenn es um die Hygiene im Land geht sind alle gefordert.ja..es wird Zeit zu gehen... das stehen Sie nicht durch...schade eigentlich das all diese Typen so richtig an Ihren Sessel kleben, aber am Ende des Tages werden sie dann losgelöst und schweben ins Nimmerleinsland...dort können sie dann weiter singen und mit ihresgleichen den Reigen tanzen !Bin ansonst kein Freund von Hüftschüssenaber in diesem eindeutigen Sündenfall der Germania und ihres ObmStv Landbauer ist ein Rücktritt des schlaksigen Jungpolitikers ohne Alternative. Wie will er mit diesen nicht zu widerlegenden Vorwürfen regieren, mit anderen Parteien koalieren? Es gibt da kein Zurück mehr, deshalb sollte er - um die Blauen in NÖ nicht noch mehr zu schaden - noch vor der Wahl Sessel und Büro räumen. Andere aufstrebende Jungpolitiker mit ähnlicher Vergangenheit sollten sich schwer überlegen, in die Politik zu gehen. Pfiat di....Bauer des Landes\",\"Thursday in an appearance on MSNBC’s “Morning Joe,” Sen. Ted Cruz ( ) dismissed the seriousness of a Washington Post report from a day earlier that alleged Attorney General Jeff Sessions failed to disclose meeting with Russian officials in his AG confirmation hearing as “political theater. ”Cruz, Sessions’ former colleague on the Senate Armed Services Committee,called the underlying meeting a “nothing burger” and argued against an investigation into the matter. Transcript as follows: MIKA BRZEZINSKI, MSNBC HOST: Joining us now from Capitol Hill, member of the Judiciary and Armed Services Committees, Republican senator Ted Cruz of Texas. Senator, thank you for being on. JOE SCARBOROUGH, MSNBC HOST: Senator, great to have you here. SEN. TED CRUZ (R) TEXAS: Good morning. SCARBOROUGH: Great to have you here. You are an attorney and certainly can read testimony. I was saying this morning that the Leahy question and answer wasn’t as troubling because, of course, it was about the campaign. Are you concerned, though, about the Al Franken questioning and answering, where Sessions seemed to volunteer that he had never spoken with any Russian officials? CRUZ: You know, Joe, I’m not concerned about that. I think what we are seeing is a lot of political theater. Could Jeff have been more clear in what he said? Yes. I think it— that was unfortunate. But I think context matters a lot. Jeff was being asked about the Trump campaign communicating with the Russians. I think he understood that he was answering in that capacity. And that is perfectly understandable. And the reason I say it’s political theater is the underlying meeting, you know, this morning, everyone is in high dungeon about the meeting. The underlying meeting is a nothing burger. It’s what senators do every day, meeting with foreign ambassadors that’s part of the job. And Jeff is a— was a very senator he will be a attorney general. And so I think everyone is getting all worked up because it’s a chance to beat up the attorney general and beat up the president. But I think the underlying meeting is simply doing his job. WILLIE GEIST, MSNBC HOST: Senator Cruz, it’s Willie Geist. It’s good to see you. You also are— sit on the Armed Services Committee with Senator Sessions. Did you meet with the Russian ambassador last summer? CRUZ: You know, I didn’t. But it’s interesting, when this story broke last night, I asked my team to just pull up the calendar for January and February of this year. And I met with six different ambassadors in the last two months. That’s part of being a senator. And you know, a minute ago, Joe was asking, well, gosh, when Al Franken was questioning Jeff Sessions and he— and Jeff Sessions was saying, that, as the Trump campaign, as a surrogate, he didn’t meet with Russia, you know, I’m willing to bet Al Franken has met with a great number of ambassadors. I’m also willing to bet that when Al Franken meets with foreign ambassadors, he didn’t consider it the Hillary campaign meeting with them. Al Franken was supporting Hillary Clinton, he was a surrogate for Hillary Clinton. But when he’s doing his job as a senator, he’s not a representative of the campaign. I think the same was exactly true for Jeff Sessions when he was doing his job as a senator. GEIST: But, Senator, we are talking about the Russian ambassador in the middle of all these questions surrounding links between the Trump campaign and the government of Russia. Why, specifically, did you and, according to all the reporting, no other member of the Armed Service Committee not seek a meeting with the Russian ambassador? CRUZ: Well, listen, by and large, I haven’t sought meetings with ambassadors. Typically, they call the office and want to talk with me. And you know, if the Russian ambassador had called and asked for a meeting, I imagine I probably would have taken the meeting. And that’s part of the job. But it’s— I can’t recall an instance where I’ve reached out to an ambassador and said, let’s do a meeting. But different countries want to come by. They want to discuss different issues. They’re concerned about— that’s part of doing your job when you are on the Armed Services Committee. I’m on the Armed Services Committee. I served with Jeff. I’m on the Judiciary Committee. I served with Jeff. And you know, one of the things that’s important, you know, you see Democratic politicians this morning coming out and blasting Jeff and saying things like that this was misleading. You know, many of— many of us have served with Jeff for years, sometimes decades in the Senate. Jeff Sessions is a man of integrity, he’s a man of candor. I don’t know any senator who served with Jeff Sessions, Democrat or Republican, who would say that Jeff has been anything less than totally honest. Now they don’t like that he’s a conservative. You know, the Democrats don’t like Jeff as a conservative. But he is very open and honest about his views. And, by the way, Jeff has been a serious critic of Russia. He’s not been shy calling out Putin. So the notion that there was something somehow wrong with a senior senator on the Armed Services Committee meeting with a foreign ambassador, I think that’s a nothing burger. And the testimony Jeff should have been more clear. I think he said that he wished he was more clear. But, at the end of the day, I don’t think that there’s any there there. GEIST: So do you— you’ve said repeatedly now that the meeting that Senator Sessions had with the Russian ambassador is a, quote, “nothing burger. ” Do you have information, Senator, about what they talked about in that meeting? How do you know it’s a nothing burger? CRUZ: I know that meeting with a foreign ambassador is part of the routine responsibilities of serving in the Senate. I have no idea what was talked about in that meeting or any other meeting that— you know, my understanding is Jeff met with 25 different ambassadors last year. And I don’t know what was discussed in those meetings. I don’t know what was discussed— GEIST: But not the Russian ambassador, right, Senator? CRUZ: Well, among the 25 that Sessions met with last year was the Russian ambassador. GEIST: But you haven’t met nor have any of the other members of Armed Services with the Russian ambassador? CRUZ: Well, my understanding of “The Washington Post” reporting is they asked— six didn’t respond. So we don’t know that none have. Of those that responded, they said they hadn’t met last year. But you know, I was watching on another show, Mike Rogers, who was chairman of the House Intelligence Committee, he said, sure he’d met with the Russian ambassador. If you are doing your job, you meet with ambassadors and foreign leaders. And that’s part of the job. HALPERIN: Senator, it’s been reported, I don’t have it confirmed myself, that this meeting is being investigated by federal investigators. There’s clearly now an appearance issue, even if, as you’ve suggested, that thing’s a nothing burger. Stipulating all you said about your former colleague, is it still possible that recusal is the right thing in your mind? CRUZ: Well, I think earlier on the show, you played Jeff Sessions this morning, saying that he would recuse himself where appropriate. I mean, obviously, if there were an investigation into himself, recusal would be appropriate. I don’t have any indication that there would be an investigation because I don’t think there’s any credible allegation that Jeff did anything wrong in meeting with the Russian ambassador. He was— he didn’t speak as clearly as he should. Although I will note, Jeff had an marathon hearing, where he was getting hammered. And Jeff is— was answering as candidly, as directly as possible. And I think in context, he was answering no as part of the Trump campaign he wasn’t meeting with the Russians. And my understanding is he wasn’t thinking about his role as a senator. But I don’t see anything for there to be an investigation. But of course there, if there was into him directly, any official would recuse themselves from an investigation into their own conduct. BRZEZINSKI: Senator Ted Cruz, thank you for your perspective this morning. Follow Jeff Poor on Twitter @jeff_poor\",\"MARA, Chad— From Yemen to Syria to here in Central Africa, the Trump administration is relying on Special Operations forces to intensify its promised fight against the Islamic State and other terrorist groups as senior officials embrace an strategy to minimize the American military’s footprint overseas. In Africa, President Trump is expected to soon approve a Pentagon proposal to remove constraints on Special Operations airstrikes and raids in parts of Somalia to target suspected militants with the Shabab, an extremist group linked to Al Qaeda. Critics say that the change— in one of the few rejections of President Barack Obama’s guidelines for the elite forces— would bypass rules that seek to prevent civilian deaths from drone attacks and commando operations. But in their two months in office, Trump officials have shown few other signs that they want to back away from Mr. Obama’s strategy to train, equip and otherwise support indigenous armies and security forces to fight their own wars instead of having to deploy large American forces to hot spots. “Africans are at war we’re not,” said Col. Kelly Smith, 47, a Green Beret commander who fought in Iraq and Afghanistan and was a director of a counterterrorism exercise in Chad this month involving about 2, 000 African and Western troops and trainers. “But we have a strategic interest in the success of partners. ” Mr. Trump came to office without a clearly articulated philosophy for using the military to fight terrorist groups. He had promised to be more aggressive in taking on the Islamic State— even suggesting during the presidential campaign that he had a secret plan— but had also signaled a desire to rein in the notion of the United States as the world’s peacekeeper and claimed at various points to have opposed the ground invasion of Iraq. Now, surrounded by generals who have been at the center of a shift to rely on Special Operations forces to project power without the risks and costs of large ground wars, he is choosing to maintain the same approach but giving the Pentagon more latitude. That leeway carries its own perils. Last week, the Pentagon went to unusual lengths to defend an airstrike in Syria that United States officials said killed dozens of Qaeda operatives at a meeting place— and not civilians at a mosque, as activists and local residents maintain. It was yet another example of the mixed success Mr. Trump’s forays with special operators have had so far. An raid in January by the Navy’s SEAL Team 6 against Qaeda fighters in Yemen marred the president’s first counterterrorism mission, five days after he became commander in chief. In Mosul, however, Special Operations advisers are the American troops closest to the fight in Iraq to oust the Islamic State from its stronghold there. That is also likely to be the case in the impending battle to reclaim Raqqa in eastern Syria. Mr. Trump is largely relying on the policies of his two immediate predecessors, Mr. Obama and President George W. Bush, who were also great advocates of Special Operations forces. On Mr. Obama’s orders, SEAL Team 6 commandos killed Osama bin Laden in his in Pakistan in 2011. But Mr. Trump seems to have taken that appreciation and reliance to another level. He appointed a retired Marine Corps general, Jim Mattis, as defense secretary, and a Army officer, Lt. Gen. H. R. McMaster, as his national security adviser. Both men have extensive experience with Special Operations forces. And the National Security Council’s new senior director for counterterrorism, Christopher P. Costa, is a retired Special Forces intelligence officer. Sharing an unusual window into the private conversations between Mr. Trump and his senior commanders, Army Gen. Tony Thomas, the head of the military’s Special Operations Command, said the president had made clear his urgent priority for counterterrorism missions conducted by the military’s elite forces during a visit to military headquarters in Tampa, Fla. last month. “There were some pretty pointed questions about what winning looks like, and how are you going to get there,” General Thomas told a Special Operations conference outside Washington after the presidential visit. And while the Pentagon could eventually send a few thousand more conventional troops to the fights in Iraq, Syria and Afghanistan, General Thomas warned that senior commanders feared that “more troops on the ground may mean you own the problem when you’re done with it. ” That concern gives weight to arguments for greater reliance on special operators as the Trump administration for now eschews larger deployments of conventional troops and proposes deep cuts in foreign aid and State Department budgets. The global reach of special operators is widening. During the peak of the conflicts in Iraq and Afghanistan, nearly 13, 000 Special Operations forces were deployed on missions across the globe, but a large majority were assigned to those two countries. Now, more than half of the 8, 600 elite troops overseas are posted outside the Middle East or South Asia, operating in 97 countries, according to the Special Operations Command. Still, about of the 6, 000 American troops currently in Iraq and Syria are special operators, many of whom are advising local troops and militias on the front lines. About a quarter of the 8, 400 American troops in Afghanistan are special operators. In Africa, about of the nearly 6, 000 overall troops are Special Operations forces. The only permanent American installation on the continent is Camp Lemonnier, a sprawling base of 4, 000 United States service members and civilians in Djibouti that serves as a hub for counterterrorism operations and training. The United States Air Force flies surveillance drones from small bases in Niger and Cameroon. Elsewhere in Africa, the roles of special operators are varied, and their ranks are small, typically measured in the low dozens for specific missions. Between 200 and 300 Navy SEALs and other special operators work with African allies to hunt shadowy Shabab terrorists in Somalia. As many as 100 Special Forces soldiers help African troops pursue the notorious leader of the Lord’s Resistance Army, Joseph Kony. And Navy SEALs are training Nigerian commandos for action in the delta. The United States is building a $50 million drone base in Agadez, Niger, that is likely to open sometime next year to monitor Islamic State insurgents in a vast area on the southern flank of the Sahara that stretches from Senegal to Chad. Mr. Trump’s tough talk on terrorism has been well received here in Chad, where American Special Operations and military instructors from several Western nations finished an annual counterterrorism training exercise last week. Many African soldiers and security forces said they would welcome an even larger United States military presence to help combat myriad extremist threats. “Of course we’d like more,” said Hassan Zakari Mahamadou, a police commissioner from Niger. “U. S. forces enhance us. ” The Pentagon has allocated about $250 million over two years to help train the armies and security forces of North, Central and West African countries. But American aid and training alone— along with occasional secret unilateral strikes— will not be enough to defeat groups like Al Qaeda, Boko Haram and the Islamic State, officials say. “We could knock off all the ISIL and Boko Haram this afternoon,” Gen. Thomas D. Waldhauser, the leader of the military’s Africa Command, told the Senate this month, using an acronym for the Islamic State. “But by the end week, so to speak, those ranks would be filled. ” Here on the outskirts of the Chadian capital, N’Djamena, last week, four boats with mounted machine guns roared down the Chari River. The boats pulled up along the riverbank, just opposite neighboring Cameroon, and disgorged Chadian Special Antiterrorism Group forces and their American trainers. In a hail of gunfire, shooting blanks, they stormed the thatched huts of a suspected Boko Haram bomb maker seized laptops, cellphones and other material inside for clues on terrorist operations and dashed back to the river, fending off a mock ambush on the way. Piling back into their boats under covering fire, the Chadian commandos sped off in a drill that American and Chadian officers often play out for real in the nearby Lake Chad Basin area. “Extremism is like a cancer,” said Brig. Gen. Zakaria Ngobongue, a senior Chadian officer who has trained in France and at Hurlburt Field, Fla. and was helping oversee the exercise. “We need to continue to fight it. ”\",\"PHILADELPHIA— President Obama delivered a stirring valedictory address at the Democratic convention Wednesday night, hailing Hillary Clinton as his rightful political heir and the party’s best hope to protect democracy from “homegrown demagogues” like the Republican Donald J. Trump. Taking the stage to rapturous roars of “We love you” and “Yes we can,” Mr. Obama acknowledged that Democrats were still divided after a bruising nomination fight and that Mrs. Clinton had made “mistakes. ” But he vouched passionately for Mrs. Clinton as a trusted and reliable ally not just for him but for all Americans who need a fighter to improve their lives and keep them safe. “She’s been there for us— even if we haven’t always noticed— and if you’re serious about our democracy, you can’t afford to stay home just because she might not align with you on every issue,” Mr. Obama said, an explicit appeal to supporters of Senator Bernie Sanders who continue to resist Mrs. Clinton. Mr. Obama offered an optimistic portrait of America and a strong defense of his policies, but also unleashed by far his most ferocious attack yet on Mr. Trump, even portraying the Republican nominee as a threat to the country. “That’s why anyone who threatens our values, whether fascists or communists or jihadists or homegrown demagogues, will always fail in the end,” he said. In the most unmistakable declaration yet by Mrs. Clinton that she is effectively seeking Mr. Obama’s third term, she strolled on stage after his speech and embraced the president as the delegates roared. It was a tableau of continuity and a vivid illustration of how dependent the two former rivals are on each other now. Mr. Obama also used his own remarks to try to drive a wedge between Mr. Trump’s campaign and Republican voters. “It wasn’t particularly Republican and it sure wasn’t conservative,” he said of last week’s Republican convention. “There were no serious solutions to pressing problems. Just the fanning of resentments and blame and hate and anger. ” The president’s contempt for Mr. Trump took on a personal dimension as well when he recalled his grandparents from Kansas and said, “I don’t know if they had their birth certificates”— a reference to Mr. Trump’s leadership of the birther movement that raised questions about Mr. Obama’s citizenship. Wednesday signaled a transition for the party. Emotion suffused the convention hall: Some delegates, in tears, were not ready to say goodbye to Mr. Obama yet, and others— particularly some liberals and young Democrats— were not ready to accept Mrs. Clinton as their new leader. As she prepares to give her nomination acceptance speech on Thursday night, the left wing of the party still remains divided, while many Republicans appear ready to fall in line behind Mr. Trump. Mr. Obama’s speech, a passionate defense of Mrs. Clinton’s vision and character, did not itself herald the start of new political era. Mrs. Clinton has wrapped herself in the cloth of the Obama presidency rather than break with him and offer a new path, like Vice President George Bush’s promise of “a kinder, gentler nation” in 1988 after the Reagan years. Instead, the lineup on Wednesday reflected a party attempting to rally its own partisans and attract Republicans with blunt warnings that, whatever they may think about the new Democratic they must all do their duty to thwart Mr. Trump. And the convention speeches were full of appeals, as Senator Tim Kaine, the Democratic nominee, offered Republicans “a home” if they felt Mr. Trump did not represent “the party of Lincoln,” and former Mayor Michael R. Bloomberg of New York urged independents to vote for “a sane, competent person”— Mrs. Clinton. Mr. Kaine, a senator and a former governor of Virginia, introduced himself to his largest television audience yet as a product of a Jesuit high school who embraced its motto— “Men for others”— who held close to his faith while trying to help Americans as a civil rights lawyer and then as a political leader whose most searing experience was the mass shooting at Virginia Tech in 2007. He occasionally shifted to Spanish, which he speaks fluently, and led the audience in a chant of an Obama political slogan, “Sí se puede” (“Yes you can”). Mr. Kaine paid brief tribute to Republicans and also hailed Senator Bernie Sanders, whom Mrs. Clinton defeated for the nomination, at several points. Yet some Sanders supporters were not willing to fall behind the new nominee. As Mr. Kaine spoke, jeers broke out from the Utah delegation attacking the Partnership trade deal that the senator has supported and Mr. Sanders is against— and Mrs. Clinton has shifted to oppose. Placards denouncing the trade deal quickly spread through the hall, including a couple of dozen in the California delegation. Leon E. Panetta, the former defense secretary and C. I. A. chief, spoke early in the evening and was repeatedly interrupted with shouts of “No more war!” from several state delegations that favored the candidacy of Mr. Sanders during the presidential race. As the heckling persisted, Mrs. Clinton’s supporters took up a heard more often at the Republican convention to drown out the jeers: “U. S. A. U. S. A. !” Mr. Obama and Vice President Joseph R. Biden Jr. also turned to images and language more commonly used by the right to depict Mr. Trump as denigrating American greatness, invoking patriotism and saluting military service. Before Mr. Obama even entered the convention hall here, the audience was clearly as devoted to him as they were excited for Mrs. Clinton. The first lady, Michelle Obama, was received with adoration and her speech on Monday was the most moment of the first days of the convention. And even a quick flash of Mr. Obama’s face, amid a procession of past presidents on the convention screen Tuesday, brought a burst of applause. The president is also the strongest adhesive holding Democrats together after five months of bitterly fought primary and caucus contests between Mrs. Clinton and Mr. Sanders of Vermont. According to a New York poll earlier this month, 82 percent of Sanders supporters approved of Mr. Obama’s job performance. After two nights of convention speeches focused on Mrs. Clinton’s virtues and attempts to make peace with Sanders supporters, Clinton campaign officials sought to address the threat of radical Islamists— an omission early on that Republicans had criticized. And in a shift from only about a decade ago when they largely avoided the issue, Democrats used much of Wednesday to advocate gun control, sending relatives of those murdered in Newtown, Conn. and Charleston, S. C. as well as a former congresswoman, Gabrielle Giffords, to recount their stories. But virtually all of the anticipation on Wednesday surrounded Mr. Obama and the symbolic passing of the torch to Mrs. Clinton after she became the party’s nominee on Tuesday night. Mr. Obama’s resounding endorsement of his rival was the final consummation of a political alliance over a decade in the making, since Mrs. Clinton flew to Chicago in 2004 to raise money for astate senator and discovered a phenom. Back then he was the one who benefited from the imprimatur of a political star, and her support continued to prove critical over the years. After he won the presidential nomination that she expected to be hers in 2008, Mrs. Clinton put aside her resentment and helped him unify a divided Democratic Party. And later that year, she again came to his aid by agreeing to become his first secretary of state. Mr. Obama is the one riding high now, his approval rating over 50 percent. And his image is only enhanced as voters view him, in his final months as president, through the prism of a race to replace him that features two deeply unpopular candidates. While acknowledging that Mrs. Clinton has “her share of critics’’ on the right and the left, the president sought to transfer his prestige and political appeal to his long ago rival. “Tonight, I ask you to do for Hillary Clinton what you did for me,” he said. “I ask you to carry her the same way you carried me. ” “And if you’re serious about our democracy, you can’t afford to stay home just because she might not align with you on every issue. You’ve got to get in the arena with her, because democracy isn’t a spectator sport. America isn’t about ‘Yes he will.’ It’s about ‘Yes we can. ’”\"]]\n",
       "fake: [[1,1,1,1,1,...,0,0,0,0,0]]\n",
       "language: [[\"english\",\"english\",\"english\",\"english\",\"english\",...,\"english\",\"german\",\"english\",\"english\",\"english\"]]"
      ]
     },
     "execution_count": 3,
     "metadata": {},
     "output_type": "execute_result"
    }
   ],
   "source": [
    "\n",
    "pq.read_table(\"english_german_combined.parquet\")"
   ]
  }
 ],
 "metadata": {
  "kernelspec": {
   "display_name": "venv",
   "language": "python",
   "name": "python3"
  },
  "language_info": {
   "codemirror_mode": {
    "name": "ipython",
    "version": 3
   },
   "file_extension": ".py",
   "mimetype": "text/x-python",
   "name": "python",
   "nbconvert_exporter": "python",
   "pygments_lexer": "ipython3",
   "version": "3.11.2"
  },
  "orig_nbformat": 4
 },
 "nbformat": 4,
 "nbformat_minor": 2
}
